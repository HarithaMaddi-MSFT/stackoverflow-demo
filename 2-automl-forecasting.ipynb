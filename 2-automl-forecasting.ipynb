{
 "cells": [
  {
   "cell_type": "markdown",
   "metadata": {},
   "source": [
    "![Impressions](https://PixelServer20190423114238.azurewebsites.net/api/impressions/MachineLearningNotebooks/how-to-use-azureml/automated-machine-learning/forecasting-energy-demand/auto-ml-forecasting-energy-demand.png)"
   ]
  },
  {
   "cell_type": "markdown",
   "metadata": {},
   "source": [
    "# Automated Machine Learning:  Forecasting Stack Overflow Volume"
   ]
  },
  {
   "cell_type": "markdown",
   "metadata": {},
   "source": [
    "## Introduction\n",
    "\n",
    "In this example we use modified Stack Overflow Volume dataset to showcase how you can use AutoML for a simple forecasting problem and explore the results. The goal is predict each Azure team's stack overflow question volume for the next 7 days based on historic time-series data."
   ]
  },
  {
   "cell_type": "code",
   "execution_count": 1,
   "metadata": {},
   "outputs": [],
   "source": [
    "import logging\n",
    "\n",
    "from sklearn.metrics import mean_absolute_error, mean_squared_error, r2_score\n",
    "from matplotlib import pyplot as plt\n",
    "import pandas as pd\n",
    "import numpy as np\n",
    "import warnings\n",
    "import os\n",
    "\n",
    "# Squash warning messages for cleaner output in the notebook\n",
    "warnings.showwarning = lambda *args, **kwargs: None\n",
    "\n",
    "import azureml.core\n",
    "from azureml.core import Experiment, Workspace, Dataset\n",
    "from azureml.train.automl import AutoMLConfig\n",
    "from datetime import datetime\n",
    "from azureml.explain.model._internal.explanation_client import ExplanationClient\n",
    "from azureml.train.automl.run import AutoMLRun\n",
    "remote_run = AutoMLRun(experiment=experiment, run_id='AutoML_8cbe242f-5f80-4e94-b3f3-4a3493e66e20')\n",
    "\n",
    "ws = Workspace.from_config()\n",
    "experiment_name = 'automl-forecasting-stackoverflow'\n",
    "experiment = Experiment(ws, experiment_name)"
   ]
  },
  {
   "cell_type": "code",
   "execution_count": 7,
   "metadata": {},
   "outputs": [
    {
     "data": {
      "text/plain": [
       "AmlCompute(workspace=Workspace.create(name='Bert-Demo', subscription_id='15ae9cb6-95c1-483d-a0e3-b1a1a3b06324', resource_group='e2eworkshop'), name=cpu-cluster, id=/subscriptions/15ae9cb6-95c1-483d-a0e3-b1a1a3b06324/resourceGroups/e2eworkshop/providers/Microsoft.MachineLearningServices/workspaces/Bert-Demo/computes/cpu-cluster, type=AmlCompute, provisioning_state=Succeeded, location=eastus, tags=None)"
      ]
     },
     "execution_count": 7,
     "metadata": {},
     "output_type": "execute_result"
    }
   ],
   "source": [
    "ws.compute_targets['cpu-cluster']"
   ]
  },
  {
   "cell_type": "markdown",
   "metadata": {},
   "source": [
    "Let's set up what we know about the dataset.\n",
    "\n",
    "<b>Target column</b> is what we want to forecast.<br></br>\n",
    "<b>Time column</b> is the time axis along which to predict. <br>\n",
    "<b>Time-series identifier(s)</b> are the columns which uniquely identify time-series in your data"
   ]
  },
  {
   "cell_type": "code",
   "execution_count": 6,
   "metadata": {},
   "outputs": [],
   "source": [
    "target_column_name = 'volume'\n",
    "time_column_name = 'date'\n",
    "time_series_id_column_names = 'team_tag'"
   ]
  },
  {
   "cell_type": "code",
   "execution_count": 7,
   "metadata": {},
   "outputs": [
    {
     "data": {
      "text/html": [
       "<div>\n",
       "<style scoped>\n",
       "    .dataframe tbody tr th:only-of-type {\n",
       "        vertical-align: middle;\n",
       "    }\n",
       "\n",
       "    .dataframe tbody tr th {\n",
       "        vertical-align: top;\n",
       "    }\n",
       "\n",
       "    .dataframe thead th {\n",
       "        text-align: right;\n",
       "    }\n",
       "</style>\n",
       "<table border=\"1\" class=\"dataframe\">\n",
       "  <thead>\n",
       "    <tr style=\"text-align: right;\">\n",
       "      <th></th>\n",
       "      <th>date</th>\n",
       "      <th>team_tag</th>\n",
       "      <th>volume</th>\n",
       "    </tr>\n",
       "  </thead>\n",
       "  <tbody>\n",
       "    <tr>\n",
       "      <th>0</th>\n",
       "      <td>2020-03-01</td>\n",
       "      <td>azure-devops</td>\n",
       "      <td>39</td>\n",
       "    </tr>\n",
       "    <tr>\n",
       "      <th>1</th>\n",
       "      <td>2020-03-02</td>\n",
       "      <td>azure-devops</td>\n",
       "      <td>151</td>\n",
       "    </tr>\n",
       "    <tr>\n",
       "      <th>2</th>\n",
       "      <td>2020-03-03</td>\n",
       "      <td>azure-devops</td>\n",
       "      <td>165</td>\n",
       "    </tr>\n",
       "    <tr>\n",
       "      <th>3</th>\n",
       "      <td>2020-03-04</td>\n",
       "      <td>azure-devops</td>\n",
       "      <td>294</td>\n",
       "    </tr>\n",
       "    <tr>\n",
       "      <th>4</th>\n",
       "      <td>2020-03-05</td>\n",
       "      <td>azure-devops</td>\n",
       "      <td>271</td>\n",
       "    </tr>\n",
       "  </tbody>\n",
       "</table>\n",
       "</div>"
      ],
      "text/plain": [
       "        date      team_tag  volume\n",
       "0 2020-03-01  azure-devops  39    \n",
       "1 2020-03-02  azure-devops  151   \n",
       "2 2020-03-03  azure-devops  165   \n",
       "3 2020-03-04  azure-devops  294   \n",
       "4 2020-03-05  azure-devops  271   "
      ]
     },
     "execution_count": 7,
     "metadata": {},
     "output_type": "execute_result"
    }
   ],
   "source": [
    "train_dataset = Dataset.Tabular.from_delimited_files(path = \"https://automlsamplenotebookdata.blob.core.windows.net/automl-sample-notebook-data/ForecastingDemo/azure_support_volume_timeseries_train.csv\").with_timestamp_columns(fine_grain_timestamp=time_column_name) \n",
    "test_dataset = Dataset.Tabular.from_delimited_files(path = \"https://automlsamplenotebookdata.blob.core.windows.net/automl-sample-notebook-data/ForecastingDemo/azure_support_volume_timeseries_test.csv\").with_timestamp_columns(fine_grain_timestamp=time_column_name) \n",
    "\n",
    "train_dataset.take(5).to_pandas_dataframe().reset_index(drop=True)"
   ]
  },
  {
   "cell_type": "markdown",
   "metadata": {},
   "source": [
    "### Setting the maximum forecast horizon\n",
    "\n",
    "The forecast horizon is the number of periods into the future that the model should predict. \n",
    "\n",
    "In this example, we set the horizon to 7 days."
   ]
  },
  {
   "cell_type": "code",
   "execution_count": 9,
   "metadata": {},
   "outputs": [],
   "source": [
    "max_horizon = 7"
   ]
  },
  {
   "cell_type": "markdown",
   "metadata": {},
   "source": [
    "This notebook uses the blacklist_models parameter to exclude some models that take a longer time to train on this dataset. You can choose to remove models from the blacklist_models list but you may need to increase the experiment_timeout_hours parameter value to get results."
   ]
  },
  {
   "cell_type": "code",
   "execution_count": 10,
   "metadata": {},
   "outputs": [],
   "source": [
    "automl_settings = {\n",
    "    'time_column_name': time_column_name,\n",
    "    'max_horizon': max_horizon,\n",
    "    'grain_column_names': time_series_id_column_names\n",
    "}\n",
    "\n",
    "automl_config = AutoMLConfig(task='forecasting',                             \n",
    "                             primary_metric='normalized_root_mean_squared_error',\n",
    "                             blacklist_models = ['ExtremeRandomTrees', 'Prophet'],                             \n",
    "                             experiment_timeout_hours=0.25,\n",
    "                             training_data=train_dataset,\n",
    "                             label_column_name=target_column_name,\n",
    "                             compute_target=compute_target,\n",
    "                             enable_early_stopping=True,\n",
    "                             n_cross_validations=2,                             \n",
    "                             verbosity=logging.INFO,\n",
    "                            **automl_settings)"
   ]
  },
  {
   "cell_type": "markdown",
   "metadata": {},
   "source": [
    "Call the `submit` method on the experiment object and pass the run configuration. Depending on the data and the number of iterations this can run for a while.\n",
    "One may specify `show_output = True` to print currently running iterations to the console."
   ]
  },
  {
   "cell_type": "code",
   "execution_count": 12,
   "metadata": {},
   "outputs": [
    {
     "name": "stdout",
     "output_type": "stream",
     "text": [
      "Running on remote or ADB.\n"
     ]
    }
   ],
   "source": [
    "remote_run = experiment.submit(automl_config)"
   ]
  },
  {
   "cell_type": "code",
   "execution_count": 10,
   "metadata": {},
   "outputs": [
    {
     "data": {
      "application/vnd.jupyter.widget-view+json": {
       "model_id": "222a9da485d94f42a666a34ce9adbc40",
       "version_major": 2,
       "version_minor": 0
      },
      "text/plain": [
       "_AutoMLWidget(widget_settings={'childWidgetDisplay': 'popup', 'send_telemetry': False, 'log_level': 'INFO', 's…"
      ]
     },
     "metadata": {},
     "output_type": "display_data"
    },
    {
     "data": {
      "application/aml.mini.widget.v1": "{\"status\": \"Completed\", \"workbench_run_details_uri\": \"https://ml.azure.com/experiments/automl-forecasting-stackoverflow/runs/AutoML_8cbe242f-5f80-4e94-b3f3-4a3493e66e20?wsid=/subscriptions/15ae9cb6-95c1-483d-a0e3-b1a1a3b06324/resourcegroups/e2eworkshop/workspaces/Bert-Demo\", \"run_id\": \"AutoML_8cbe242f-5f80-4e94-b3f3-4a3493e66e20\", \"run_properties\": {\"run_id\": \"AutoML_8cbe242f-5f80-4e94-b3f3-4a3493e66e20\", \"created_utc\": \"2020-06-08T17:26:18.853881Z\", \"properties\": {\"num_iterations\": \"1000\", \"training_type\": \"TrainFull\", \"acquisition_function\": \"EI\", \"primary_metric\": \"normalized_root_mean_squared_error\", \"train_split\": \"0\", \"acquisition_parameter\": \"0\", \"num_cross_validation\": \"2\", \"target\": \"cpu-cluster\", \"RawAMLSettingsString\": \"{'name': 'automl-forecasting-stackoverflow', 'path': None, 'subscription_id': '15ae9cb6-95c1-483d-a0e3-b1a1a3b06324', 'resource_group': 'e2eworkshop', 'workspace_name': 'Bert-Demo', 'region': 'eastus', 'compute_target': 'cpu-cluster', 'spark_service': None, 'azure_service': 'Microsoft.AzureNotebookVM', '_local_managed_run_id': None, 'iterations': 1000, 'primary_metric': 'normalized_root_mean_squared_error', 'task_type': 'regression', 'data_script': None, 'validation_size': 0.0, 'n_cross_validations': 2, 'y_min': None, 'y_max': None, 'num_classes': None, 'featurization': 'auto', '_ignore_package_version_incompatibilities': False, 'lag_length': 0, 'is_timeseries': True, 'max_cores_per_iteration': 1, 'max_concurrent_iterations': 1, 'iteration_timeout_minutes': None, 'mem_in_mb': None, 'enforce_time_on_windows': False, 'experiment_timeout_minutes': 15, 'experiment_exit_score': None, 'whitelist_models': None, 'blacklist_algos': ['ExtremeRandomTrees', 'Prophet'], 'supported_models': ['GradientBoosting', 'RandomForest', 'LightGBM', 'ExtremeRandomTrees', 'SGD', 'Prophet', 'TCNForecaster', 'LassoLars', 'FastLinearRegressor', 'XGBoostRegressor', 'OnlineGradientDescentRegressor', 'TensorFlowLinearRegressor', 'AutoArima', 'DecisionTree', 'TensorFlowDNN', 'ElasticNet', 'KNN'], 'auto_blacklist': True, 'blacklist_samples_reached': False, 'exclude_nan_labels': True, 'verbosity': 20, 'debug_log': 'azureml_automl.log', 'show_warnings': False, 'model_explainability': True, 'service_url': None, 'sdk_url': None, 'sdk_packages': None, 'enable_onnx_compatible_models': False, 'enable_split_onnx_featurizer_estimator_models': False, 'vm_type': 'STANDARD_D12_V2', 'telemetry_verbosity': 20, 'send_telemetry': True, 'enable_dnn': False, 'force_text_dnn': False, 'enable_feature_sweeping': False, 'time_column_name': 'date', 'grain_column_names': ['team_tag'], 'drop_column_names': [], 'max_horizon': 7, 'dropna': False, 'overwrite_columns': True, 'transform_dictionary': {'min': '_automl_target_col', 'max': '_automl_target_col', 'mean': '_automl_target_col'}, 'window_size': None, 'country_or_region': None, 'lags': None, 'feature_lags': None, 'seasonality': -1, 'use_stl': None, 'short_series_handling': True, 'enable_early_stopping': True, 'early_stopping_n_iters': 10, 'metrics': None, 'enable_ensembling': True, 'enable_stack_ensembling': True, 'ensemble_iterations': 15, 'enable_tf': False, 'enable_cache': True, 'enable_subsampling': False, 'subsample_seed': None, 'enable_nimbusml': False, 'enable_streaming': False, 'force_streaming': False, 'track_child_runs': True, 'label_column_name': 'volume', 'weight_column_name': None, 'cv_split_column_names': None, 'cost_mode': 1, 'metric_operation': 'minimize', 'preprocess': True, 'scenario': 'SDK-Compatible'}\", \"AMLSettingsJsonString\": \"{\\\"name\\\": \\\"automl-forecasting-stackoverflow\\\", \\\"path\\\": null, \\\"subscription_id\\\": \\\"15ae9cb6-95c1-483d-a0e3-b1a1a3b06324\\\", \\\"resource_group\\\": \\\"e2eworkshop\\\", \\\"workspace_name\\\": \\\"Bert-Demo\\\", \\\"region\\\": \\\"eastus\\\", \\\"compute_target\\\": \\\"cpu-cluster\\\", \\\"spark_service\\\": null, \\\"azure_service\\\": \\\"Microsoft.AzureNotebookVM\\\", \\\"_local_managed_run_id\\\": null, \\\"iterations\\\": 1000, \\\"primary_metric\\\": \\\"normalized_root_mean_squared_error\\\", \\\"task_type\\\": \\\"regression\\\", \\\"data_script\\\": null, \\\"validation_size\\\": 0.0, \\\"n_cross_validations\\\": 2, \\\"y_min\\\": null, \\\"y_max\\\": null, \\\"num_classes\\\": null, \\\"featurization\\\": \\\"auto\\\", \\\"_ignore_package_version_incompatibilities\\\": false, \\\"lag_length\\\": 0, \\\"is_timeseries\\\": true, \\\"max_cores_per_iteration\\\": 1, \\\"max_concurrent_iterations\\\": 1, \\\"iteration_timeout_minutes\\\": null, \\\"mem_in_mb\\\": null, \\\"enforce_time_on_windows\\\": false, \\\"experiment_timeout_minutes\\\": 15, \\\"experiment_exit_score\\\": null, \\\"whitelist_models\\\": null, \\\"blacklist_algos\\\": [\\\"ExtremeRandomTrees\\\", \\\"Prophet\\\"], \\\"supported_models\\\": [\\\"GradientBoosting\\\", \\\"RandomForest\\\", \\\"LightGBM\\\", \\\"ExtremeRandomTrees\\\", \\\"SGD\\\", \\\"Prophet\\\", \\\"TCNForecaster\\\", \\\"LassoLars\\\", \\\"FastLinearRegressor\\\", \\\"XGBoostRegressor\\\", \\\"OnlineGradientDescentRegressor\\\", \\\"TensorFlowLinearRegressor\\\", \\\"AutoArima\\\", \\\"DecisionTree\\\", \\\"TensorFlowDNN\\\", \\\"ElasticNet\\\", \\\"KNN\\\"], \\\"auto_blacklist\\\": true, \\\"blacklist_samples_reached\\\": false, \\\"exclude_nan_labels\\\": true, \\\"verbosity\\\": 20, \\\"debug_log\\\": \\\"azureml_automl.log\\\", \\\"show_warnings\\\": false, \\\"model_explainability\\\": true, \\\"service_url\\\": null, \\\"sdk_url\\\": null, \\\"sdk_packages\\\": null, \\\"enable_onnx_compatible_models\\\": false, \\\"enable_split_onnx_featurizer_estimator_models\\\": false, \\\"vm_type\\\": \\\"STANDARD_D12_V2\\\", \\\"telemetry_verbosity\\\": 20, \\\"send_telemetry\\\": true, \\\"enable_dnn\\\": false, \\\"force_text_dnn\\\": false, \\\"enable_feature_sweeping\\\": false, \\\"time_column_name\\\": \\\"date\\\", \\\"grain_column_names\\\": [\\\"team_tag\\\"], \\\"drop_column_names\\\": [], \\\"max_horizon\\\": 7, \\\"dropna\\\": false, \\\"overwrite_columns\\\": true, \\\"transform_dictionary\\\": {\\\"min\\\": \\\"_automl_target_col\\\", \\\"max\\\": \\\"_automl_target_col\\\", \\\"mean\\\": \\\"_automl_target_col\\\"}, \\\"window_size\\\": null, \\\"country_or_region\\\": null, \\\"lags\\\": null, \\\"feature_lags\\\": null, \\\"seasonality\\\": -1, \\\"use_stl\\\": null, \\\"short_series_handling\\\": true, \\\"enable_early_stopping\\\": true, \\\"early_stopping_n_iters\\\": 10, \\\"metrics\\\": null, \\\"enable_ensembling\\\": true, \\\"enable_stack_ensembling\\\": true, \\\"ensemble_iterations\\\": 15, \\\"enable_tf\\\": false, \\\"enable_cache\\\": true, \\\"enable_subsampling\\\": false, \\\"subsample_seed\\\": null, \\\"enable_nimbusml\\\": false, \\\"enable_streaming\\\": false, \\\"force_streaming\\\": false, \\\"track_child_runs\\\": true, \\\"label_column_name\\\": \\\"volume\\\", \\\"weight_column_name\\\": null, \\\"cv_split_column_names\\\": null, \\\"cost_mode\\\": 1, \\\"metric_operation\\\": \\\"minimize\\\", \\\"preprocess\\\": true, \\\"scenario\\\": \\\"SDK-Compatible\\\"}\", \"DataPrepJsonString\": \"{\\\\\\\"training_data\\\\\\\": \\\\\\\"{\\\\\\\\\\\\\\\"blocks\\\\\\\\\\\\\\\": [{\\\\\\\\\\\\\\\"id\\\\\\\\\\\\\\\": \\\\\\\\\\\\\\\"4e0f8b3e-a8b9-459f-9ae5-7a23306198a3\\\\\\\\\\\\\\\", \\\\\\\\\\\\\\\"type\\\\\\\\\\\\\\\": \\\\\\\\\\\\\\\"Microsoft.DPrep.GetFilesBlock\\\\\\\\\\\\\\\", \\\\\\\\\\\\\\\"arguments\\\\\\\\\\\\\\\": {\\\\\\\\\\\\\\\"isArchive\\\\\\\\\\\\\\\": false, \\\\\\\\\\\\\\\"path\\\\\\\\\\\\\\\": {\\\\\\\\\\\\\\\"target\\\\\\\\\\\\\\\": 1, \\\\\\\\\\\\\\\"resourceDetails\\\\\\\\\\\\\\\": [{\\\\\\\\\\\\\\\"path\\\\\\\\\\\\\\\": \\\\\\\\\\\\\\\"https://automlsamplenotebookdata.blob.core.windows.net/automl-sample-notebook-data/ForecastingDemo/azure_support_volume_timeseries_train.csv\\\\\\\\\\\\\\\", \\\\\\\\\\\\\\\"sas\\\\\\\\\\\\\\\": null, \\\\\\\\\\\\\\\"storageAccountName\\\\\\\\\\\\\\\": null, \\\\\\\\\\\\\\\"storageAccountKey\\\\\\\\\\\\\\\": null}]}}, \\\\\\\\\\\\\\\"localData\\\\\\\\\\\\\\\": {}, \\\\\\\\\\\\\\\"isEnabled\\\\\\\\\\\\\\\": true, \\\\\\\\\\\\\\\"name\\\\\\\\\\\\\\\": null, \\\\\\\\\\\\\\\"annotation\\\\\\\\\\\\\\\": null}, {\\\\\\\\\\\\\\\"id\\\\\\\\\\\\\\\": \\\\\\\\\\\\\\\"1b562f3c-9033-4b42-b627-fc9601e8f084\\\\\\\\\\\\\\\", \\\\\\\\\\\\\\\"type\\\\\\\\\\\\\\\": \\\\\\\\\\\\\\\"Microsoft.DPrep.ParseDelimitedBlock\\\\\\\\\\\\\\\", \\\\\\\\\\\\\\\"arguments\\\\\\\\\\\\\\\": {\\\\\\\\\\\\\\\"columnHeadersMode\\\\\\\\\\\\\\\": 3, \\\\\\\\\\\\\\\"fileEncoding\\\\\\\\\\\\\\\": 0, \\\\\\\\\\\\\\\"handleQuotedLineBreaks\\\\\\\\\\\\\\\": false, \\\\\\\\\\\\\\\"preview\\\\\\\\\\\\\\\": false, \\\\\\\\\\\\\\\"separator\\\\\\\\\\\\\\\": \\\\\\\\\\\\\\\",\\\\\\\\\\\\\\\", \\\\\\\\\\\\\\\"skipRows\\\\\\\\\\\\\\\": 0, \\\\\\\\\\\\\\\"skipRowsMode\\\\\\\\\\\\\\\": 0}, \\\\\\\\\\\\\\\"localData\\\\\\\\\\\\\\\": {}, \\\\\\\\\\\\\\\"isEnabled\\\\\\\\\\\\\\\": true, \\\\\\\\\\\\\\\"name\\\\\\\\\\\\\\\": null, \\\\\\\\\\\\\\\"annotation\\\\\\\\\\\\\\\": null}, {\\\\\\\\\\\\\\\"id\\\\\\\\\\\\\\\": \\\\\\\\\\\\\\\"fd4d60b8-e058-4ee4-a5af-b79bec6e9d03\\\\\\\\\\\\\\\", \\\\\\\\\\\\\\\"type\\\\\\\\\\\\\\\": \\\\\\\\\\\\\\\"Microsoft.DPrep.DropColumnsBlock\\\\\\\\\\\\\\\", \\\\\\\\\\\\\\\"arguments\\\\\\\\\\\\\\\": {\\\\\\\\\\\\\\\"columns\\\\\\\\\\\\\\\": {\\\\\\\\\\\\\\\"type\\\\\\\\\\\\\\\": 0, \\\\\\\\\\\\\\\"details\\\\\\\\\\\\\\\": {\\\\\\\\\\\\\\\"selectedColumns\\\\\\\\\\\\\\\": [\\\\\\\\\\\\\\\"Path\\\\\\\\\\\\\\\"]}}}, \\\\\\\\\\\\\\\"localData\\\\\\\\\\\\\\\": {}, \\\\\\\\\\\\\\\"isEnabled\\\\\\\\\\\\\\\": true, \\\\\\\\\\\\\\\"name\\\\\\\\\\\\\\\": null, \\\\\\\\\\\\\\\"annotation\\\\\\\\\\\\\\\": null}, {\\\\\\\\\\\\\\\"id\\\\\\\\\\\\\\\": \\\\\\\\\\\\\\\"2b200cee-2ccf-49e6-9182-5b888513e5dd\\\\\\\\\\\\\\\", \\\\\\\\\\\\\\\"type\\\\\\\\\\\\\\\": \\\\\\\\\\\\\\\"Microsoft.DPrep.SetColumnTypesBlock\\\\\\\\\\\\\\\", \\\\\\\\\\\\\\\"arguments\\\\\\\\\\\\\\\": {\\\\\\\\\\\\\\\"columnConversion\\\\\\\\\\\\\\\": [{\\\\\\\\\\\\\\\"column\\\\\\\\\\\\\\\": {\\\\\\\\\\\\\\\"type\\\\\\\\\\\\\\\": 2, \\\\\\\\\\\\\\\"details\\\\\\\\\\\\\\\": {\\\\\\\\\\\\\\\"selectedColumn\\\\\\\\\\\\\\\": \\\\\\\\\\\\\\\"date\\\\\\\\\\\\\\\"}}, \\\\\\\\\\\\\\\"typeArguments\\\\\\\\\\\\\\\": {\\\\\\\\\\\\\\\"dateTimeFormats\\\\\\\\\\\\\\\": [\\\\\\\\\\\\\\\"%Y-%m-%d\\\\\\\\\\\\\\\"]}, \\\\\\\\\\\\\\\"typeProperty\\\\\\\\\\\\\\\": 4}, {\\\\\\\\\\\\\\\"column\\\\\\\\\\\\\\\": {\\\\\\\\\\\\\\\"type\\\\\\\\\\\\\\\": 2, \\\\\\\\\\\\\\\"details\\\\\\\\\\\\\\\": {\\\\\\\\\\\\\\\"selectedColumn\\\\\\\\\\\\\\\": \\\\\\\\\\\\\\\"team_tag\\\\\\\\\\\\\\\"}}, \\\\\\\\\\\\\\\"typeProperty\\\\\\\\\\\\\\\": 0}, {\\\\\\\\\\\\\\\"column\\\\\\\\\\\\\\\": {\\\\\\\\\\\\\\\"type\\\\\\\\\\\\\\\": 2, \\\\\\\\\\\\\\\"details\\\\\\\\\\\\\\\": {\\\\\\\\\\\\\\\"selectedColumn\\\\\\\\\\\\\\\": \\\\\\\\\\\\\\\"volume\\\\\\\\\\\\\\\"}}, \\\\\\\\\\\\\\\"typeProperty\\\\\\\\\\\\\\\": 2}]}, \\\\\\\\\\\\\\\"localData\\\\\\\\\\\\\\\": {}, \\\\\\\\\\\\\\\"isEnabled\\\\\\\\\\\\\\\": true, \\\\\\\\\\\\\\\"name\\\\\\\\\\\\\\\": null, \\\\\\\\\\\\\\\"annotation\\\\\\\\\\\\\\\": null}], \\\\\\\\\\\\\\\"inspectors\\\\\\\\\\\\\\\": [], \\\\\\\\\\\\\\\"meta\\\\\\\\\\\\\\\": {\\\\\\\\\\\\\\\"savedDatasetId\\\\\\\\\\\\\\\": \\\\\\\\\\\\\\\"52035fd0-d81f-4539-8562-dc71775ac527\\\\\\\\\\\\\\\", \\\\\\\\\\\\\\\"datasetType\\\\\\\\\\\\\\\": \\\\\\\\\\\\\\\"tabular\\\\\\\\\\\\\\\", \\\\\\\\\\\\\\\"subscriptionId\\\\\\\\\\\\\\\": \\\\\\\\\\\\\\\"15ae9cb6-95c1-483d-a0e3-b1a1a3b06324\\\\\\\\\\\\\\\", \\\\\\\\\\\\\\\"workspaceId\\\\\\\\\\\\\\\": \\\\\\\\\\\\\\\"9d2ee196-2e6a-43cc-86c0-2475deb6d8c2\\\\\\\\\\\\\\\", \\\\\\\\\\\\\\\"workspaceLocation\\\\\\\\\\\\\\\": \\\\\\\\\\\\\\\"eastus\\\\\\\\\\\\\\\", \\\\\\\\\\\\\\\"TimeSeries_Column:FineGrainTimestamp_\\\\\\\\\\\\\\\": \\\\\\\\\\\\\\\"true\\\\\\\\\\\\\\\"}}\\\\\\\", \\\\\\\"activities\\\\\\\": 0}\", \"EnableSubsampling\": \"False\", \"runTemplate\": \"AutoML\", \"azureml.runsource\": \"automl\", \"display_task_type\": \"forecasting\", \"dependencies_versions\": \"{\\\"azureml-widgets\\\": \\\"1.0.83\\\", \\\"azureml-train\\\": \\\"1.6.0\\\", \\\"azureml-train-restclients-hyperdrive\\\": \\\"1.6.0\\\", \\\"azureml-train-core\\\": \\\"1.6.0.post1\\\", \\\"azureml-train-automl\\\": \\\"1.5.0\\\", \\\"azureml-train-automl-runtime\\\": \\\"1.5.0.post1\\\", \\\"azureml-train-automl-client\\\": \\\"1.6.0.post1\\\", \\\"azureml-tensorboard\\\": \\\"1.0.83\\\", \\\"azureml-telemetry\\\": \\\"1.6.0\\\", \\\"azureml-sdk\\\": \\\"1.6.0\\\", \\\"azureml-samples\\\": \\\"0+unknown\\\", \\\"azureml-pipeline\\\": \\\"1.6.0\\\", \\\"azureml-pipeline-steps\\\": \\\"1.6.0\\\", \\\"azureml-pipeline-core\\\": \\\"1.6.0\\\", \\\"azureml-opendatasets\\\": \\\"1.0.83\\\", \\\"azureml-model-management-sdk\\\": \\\"1.0.1b6.post1\\\", \\\"azureml-mlflow\\\": \\\"1.0.83\\\", \\\"azureml-interpret\\\": \\\"1.5.0\\\", \\\"azureml-explain-model\\\": \\\"1.5.0\\\", \\\"azureml-defaults\\\": \\\"1.5.0\\\", \\\"azureml-dataprep\\\": \\\"1.6.3\\\", \\\"azureml-dataprep-native\\\": \\\"14.1.0\\\", \\\"azureml-datadrift\\\": \\\"1.0.83\\\", \\\"azureml-core\\\": \\\"1.6.0.post1\\\", \\\"azureml-contrib-services\\\": \\\"1.0.83\\\", \\\"azureml-contrib-server\\\": \\\"1.0.83\\\", \\\"azureml-contrib-reinforcementlearning\\\": \\\"1.0.83\\\", \\\"azureml-contrib-pipeline-steps\\\": \\\"1.0.83\\\", \\\"azureml-contrib-notebook\\\": \\\"1.0.83\\\", \\\"azureml-contrib-interpret\\\": \\\"1.0.83\\\", \\\"azureml-contrib-gbdt\\\": \\\"1.3.0\\\", \\\"azureml-contrib-datadrift\\\": \\\"1.0.83\\\", \\\"azureml-automl-runtime\\\": \\\"1.5.0.post2\\\", \\\"azureml-automl-core\\\": \\\"1.6.0\\\"}\", \"ClientSdkVersion\": \"1.6.0\", \"ClientType\": \"SDK\", \"environment_cpu_name\": \"AzureML-AutoML\", \"environment_cpu_version\": \"17\", \"environment_gpu_name\": \"AzureML-AutoML-GPU\", \"environment_gpu_version\": \"10\", \"root_attribution\": \"AutoML\", \"attribution\": \"AutoML\", \"CancelUri\": \"https://eastus.experiments.azureml.net/jasmine/v1.0/subscriptions/15ae9cb6-95c1-483d-a0e3-b1a1a3b06324/resourceGroups/e2eworkshop/providers/Microsoft.MachineLearningServices/workspaces/Bert-Demo/experiment/automl-forecasting-stackoverflow/cancel/AutoML_8cbe242f-5f80-4e94-b3f3-4a3493e66e20\", \"Orchestrator\": \"AutoML\", \"SetupRunId\": \"AutoML_8cbe242f-5f80-4e94-b3f3-4a3493e66e20_setup\", \"SetupRunContainerId\": \"dcid.AutoML_8cbe242f-5f80-4e94-b3f3-4a3493e66e20_setup\", \"forecasting_target_lags\": \"[0]\", \"forecasting_target_rolling_window_size\": \"0\", \"forecasting_max_horizon\": \"7\", \"ProblemInfoJsonString\": \"{\\\"dataset_num_categorical\\\": 0, \\\"is_sparse\\\": false, \\\"subsampling\\\": false, \\\"dataset_classes\\\": 125, \\\"dataset_features\\\": 7, \\\"dataset_samples\\\": 170, \\\"single_frequency_class_detected\\\": false}\", \"ModelExplainRunId\": \"AutoML_8cbe242f-5f80-4e94-b3f3-4a3493e66e20_ModelExplain\"}, \"tags\": {\"model_explain_run\": \"best_run\", \"azureml.automlComponent\": \"AutoML\", \"pipeline_id\": \"<__AutoML_AutoArima__>;<fdcc98506cac91f581e9b6cec9f9daa482221f29>;<32df138275f39f2b0ba907646396aa556f989aa2>;<38c6f777cddc27ca5b2611ea36fb52cdc93bf3dd>;<20f1df2fc8440a1f2a730b2da66fa3f61a73de6f>;<39b7cb76de28be0ff8cc4019d6a91581fd78e091>;<eab9aabedd9e12cce841846f250ee210ad2290b2>;<556664b7f5b4dfa8d913b971876bc80e41c8fe8d>;<__AutoML_Ensemble__>;<__AutoML_Stack_Ensemble__>;\", \"score\": \"<0.0977977411531521>;<0.249178031688049>;<0.249012480758361>;<0.248618141954717>;<0.261917405708031>;<0.224787364874577>;<0.229270660743355>;<0.189814678847036>;<0.0967043507918756>;<0.102246277861235>;\", \"predicted_cost\": \"<0>;<0.5>;<0.0050305>;<0.00492649953810655>;<0.00527151404044926>;<0.00515691748702634>;<0.00529081977171941>;<0.00576078813924496>;<0>;<0>;\", \"fit_time\": \"<7.1972165>;<0.0050305>;<0.0047855>;<0.006024>;<0.005041>;<0.0066195>;<0.005965>;<0.0228195>;<21>;<16>;\", \"training_percent\": \"<0>;<100>;<100>;<100>;<100>;<100>;<100>;<100>;<100>;<100>;\", \"iteration\": \"<0>;<1>;<2>;<3>;<4>;<5>;<6>;<7>;<8>;<9>;\", \"run_preprocessor\": \"<>;<StandardScalerWrapper>;<StandardScalerWrapper>;<RobustScaler>;<StandardScalerWrapper>;<StandardScalerWrapper>;<StandardScalerWrapper>;<StandardScalerWrapper>;<>;<>;\", \"run_algorithm\": \"<AutoArima>;<ElasticNet>;<ElasticNet>;<ElasticNet>;<ElasticNet>;<ElasticNet>;<ElasticNet>;<RandomForest>;<VotingEnsemble>;<StackEnsemble>;\", \"automl_best_child_run_id\": \"AutoML_8cbe242f-5f80-4e94-b3f3-4a3493e66e20_8\", \"model_explain_best_run_child_id\": \"AutoML_8cbe242f-5f80-4e94-b3f3-4a3493e66e20_8\"}, \"end_time_utc\": \"2020-06-08T17:52:05.606016Z\", \"status\": \"Completed\", \"log_files\": {}, \"log_groups\": [], \"run_duration\": \"0:25:46\"}, \"child_runs\": [{\"run_id\": \"AutoML_8cbe242f-5f80-4e94-b3f3-4a3493e66e20_0\", \"run_number\": 41, \"metric\": null, \"status\": \"Completed\", \"run_type\": \"azureml.scriptrun\", \"training_percent\": null, \"start_time\": \"2020-06-08T17:33:28.16469Z\", \"end_time\": \"2020-06-08T17:35:20.451165Z\", \"created_time\": \"2020-06-08T17:33:11.895898Z\", \"created_time_dt\": \"2020-06-08T17:33:11.895898Z\", \"duration\": \"0:02:08\", \"iteration\": \"0\", \"goal\": \"normalized_root_mean_squared_error_min\", \"run_name\": \"AutoArima\", \"run_properties\": \"<azureml.automl.runtime.shared.forecasting_models.AutoArima object at 0x7ff1de3e9780\", \"primary_metric\": 0.09779774, \"best_metric\": 0.09779774}, {\"run_id\": \"AutoML_8cbe242f-5f80-4e94-b3f3-4a3493e66e20_1\", \"run_number\": 42, \"metric\": null, \"status\": \"Completed\", \"run_type\": \"azureml.scriptrun\", \"training_percent\": \"100\", \"start_time\": \"2020-06-08T17:35:45.267076Z\", \"end_time\": \"2020-06-08T17:37:11.262892Z\", \"created_time\": \"2020-06-08T17:35:31.829306Z\", \"created_time_dt\": \"2020-06-08T17:35:31.829306Z\", \"duration\": \"0:01:39\", \"iteration\": \"1\", \"goal\": \"normalized_root_mean_squared_error_min\", \"run_name\": \"StandardScalerWrapper, ElasticNet\", \"run_properties\": \"<azureml.automl.runtime.shared.model_wrappers.StandardScalerWrapper object at 0x7f9676e28a90\", \"primary_metric\": 0.24917803, \"best_metric\": 0.09779774}, {\"run_id\": \"AutoML_8cbe242f-5f80-4e94-b3f3-4a3493e66e20_2\", \"run_number\": 43, \"metric\": null, \"status\": \"Completed\", \"run_type\": \"azureml.scriptrun\", \"training_percent\": \"100\", \"start_time\": \"2020-06-08T17:37:36.972592Z\", \"end_time\": \"2020-06-08T17:38:54.81811Z\", \"created_time\": \"2020-06-08T17:37:17.692118Z\", \"created_time_dt\": \"2020-06-08T17:37:17.692118Z\", \"duration\": \"0:01:37\", \"iteration\": \"2\", \"goal\": \"normalized_root_mean_squared_error_min\", \"run_name\": \"StandardScalerWrapper, ElasticNet\", \"run_properties\": \"<azureml.automl.runtime.shared.model_wrappers.StandardScalerWrapper object at 0x7f25209424a8\", \"primary_metric\": 0.24901248, \"best_metric\": 0.09779774}, {\"run_id\": \"AutoML_8cbe242f-5f80-4e94-b3f3-4a3493e66e20_3\", \"run_number\": 44, \"metric\": null, \"status\": \"Completed\", \"run_type\": \"azureml.scriptrun\", \"training_percent\": \"100\", \"start_time\": \"2020-06-08T17:39:20.676321Z\", \"end_time\": \"2020-06-08T17:40:46.336419Z\", \"created_time\": \"2020-06-08T17:39:02.853641Z\", \"created_time_dt\": \"2020-06-08T17:39:02.853641Z\", \"duration\": \"0:01:43\", \"iteration\": \"3\", \"goal\": \"normalized_root_mean_squared_error_min\", \"run_name\": \"RobustScaler, ElasticNet\", \"run_properties\": \"copy=True, quantile_range=[25, 75], with_centering=True,\\n       with_scaling=False\", \"primary_metric\": 0.24861814, \"best_metric\": 0.09779774}, {\"run_id\": \"AutoML_8cbe242f-5f80-4e94-b3f3-4a3493e66e20_4\", \"run_number\": 45, \"metric\": null, \"status\": \"Completed\", \"run_type\": \"azureml.scriptrun\", \"training_percent\": \"100\", \"start_time\": \"2020-06-08T17:41:14.65405Z\", \"end_time\": \"2020-06-08T17:42:31.311355Z\", \"created_time\": \"2020-06-08T17:40:55.706893Z\", \"created_time_dt\": \"2020-06-08T17:40:55.706893Z\", \"duration\": \"0:01:35\", \"iteration\": \"4\", \"goal\": \"normalized_root_mean_squared_error_min\", \"run_name\": \"StandardScalerWrapper, ElasticNet\", \"run_properties\": \"<azureml.automl.runtime.shared.model_wrappers.StandardScalerWrapper object at 0x7f28200cc6a0\", \"primary_metric\": 0.26191741, \"best_metric\": 0.09779774}, {\"run_id\": \"AutoML_8cbe242f-5f80-4e94-b3f3-4a3493e66e20_5\", \"run_number\": 46, \"metric\": null, \"status\": \"Completed\", \"run_type\": \"azureml.scriptrun\", \"training_percent\": \"100\", \"start_time\": \"2020-06-08T17:42:50.676623Z\", \"end_time\": \"2020-06-08T17:44:14.45575Z\", \"created_time\": \"2020-06-08T17:42:37.306504Z\", \"created_time_dt\": \"2020-06-08T17:42:37.306504Z\", \"duration\": \"0:01:37\", \"iteration\": \"5\", \"goal\": \"normalized_root_mean_squared_error_min\", \"run_name\": \"StandardScalerWrapper, ElasticNet\", \"run_properties\": \"<azureml.automl.runtime.shared.model_wrappers.StandardScalerWrapper object at 0x7ffa67c89550\", \"primary_metric\": 0.22478736, \"best_metric\": 0.09779774}, {\"run_id\": \"AutoML_8cbe242f-5f80-4e94-b3f3-4a3493e66e20_6\", \"run_number\": 47, \"metric\": null, \"status\": \"Completed\", \"run_type\": \"azureml.scriptrun\", \"training_percent\": \"100\", \"start_time\": \"2020-06-08T17:44:42.651826Z\", \"end_time\": \"2020-06-08T17:46:10.021425Z\", \"created_time\": \"2020-06-08T17:44:23.477602Z\", \"created_time_dt\": \"2020-06-08T17:44:23.477602Z\", \"duration\": \"0:01:46\", \"iteration\": \"6\", \"goal\": \"normalized_root_mean_squared_error_min\", \"run_name\": \"StandardScalerWrapper, ElasticNet\", \"run_properties\": \"<azureml.automl.runtime.shared.model_wrappers.StandardScalerWrapper object at 0x7feb2daa0748\", \"primary_metric\": 0.22927066, \"best_metric\": 0.09779774}, {\"run_id\": \"AutoML_8cbe242f-5f80-4e94-b3f3-4a3493e66e20_7\", \"run_number\": 48, \"metric\": null, \"status\": \"Completed\", \"run_type\": \"azureml.scriptrun\", \"training_percent\": \"100\", \"start_time\": \"2020-06-08T17:46:41.521637Z\", \"end_time\": \"2020-06-08T17:48:05.804523Z\", \"created_time\": \"2020-06-08T17:46:21.672254Z\", \"created_time_dt\": \"2020-06-08T17:46:21.672254Z\", \"duration\": \"0:01:44\", \"iteration\": \"7\", \"goal\": \"normalized_root_mean_squared_error_min\", \"run_name\": \"StandardScalerWrapper, RandomForest\", \"run_properties\": \"<azureml.automl.runtime.shared.model_wrappers.StandardScalerWrapper object at 0x7ff651fbfa90\", \"primary_metric\": 0.18981468, \"best_metric\": 0.09779774}, {\"run_id\": \"AutoML_8cbe242f-5f80-4e94-b3f3-4a3493e66e20_8\", \"run_number\": 49, \"metric\": null, \"status\": \"Completed\", \"run_type\": \"azureml.scriptrun\", \"training_percent\": \"100\", \"start_time\": \"2020-06-08T17:48:29.012378Z\", \"end_time\": \"2020-06-08T17:50:07.002346Z\", \"created_time\": \"2020-06-08T17:48:12.363311Z\", \"created_time_dt\": \"2020-06-08T17:48:12.363311Z\", \"duration\": \"0:01:54\", \"iteration\": \"8\", \"goal\": \"normalized_root_mean_squared_error_min\", \"run_name\": \"VotingEnsemble\", \"run_properties\": \"estimators=[('0', Pipeline(memory=None,\\n     steps=[('autoarima', <azureml.automl.runtime.shared.forecasting_models.AutoArima object at 0x7f031ab5d390>\", \"primary_metric\": 0.09670435, \"best_metric\": 0.09670435}, {\"run_id\": \"AutoML_8cbe242f-5f80-4e94-b3f3-4a3493e66e20_9\", \"run_number\": 50, \"metric\": null, \"status\": \"Completed\", \"run_type\": \"azureml.scriptrun\", \"training_percent\": \"100\", \"start_time\": \"2020-06-08T17:50:27.351791Z\", \"end_time\": \"2020-06-08T17:51:58.156543Z\", \"created_time\": \"2020-06-08T17:50:13.851564Z\", \"created_time_dt\": \"2020-06-08T17:50:13.851564Z\", \"duration\": \"0:01:44\", \"iteration\": \"9\", \"goal\": \"normalized_root_mean_squared_error_min\", \"run_name\": \"StackEnsemble\", \"run_properties\": \"base_learners=[('0', Pipeline(memory=None,\\n     steps=[('autoarima', <azureml.automl.runtime.shared.forecasting_models.AutoArima object at 0x7f755ce02588>\", \"primary_metric\": 0.10224628, \"best_metric\": 0.09670435}], \"children_metrics\": {\"categories\": [0], \"series\": {\"normalized_root_mean_squared_error\": [{\"categories\": [\"0\", \"1\", \"2\", \"3\", \"4\", \"5\", \"6\", \"7\", \"8\", \"9\"], \"mode\": \"markers\", \"name\": \"normalized_root_mean_squared_error\", \"stepped\": false, \"type\": \"scatter\", \"data\": [0.09779774115315207, 0.24917803168804908, 0.2490124807583608, 0.24861814195471732, 0.2619174057080307, 0.22478736487457668, 0.22927066074335473, 0.18981467884703568, 0.09670435079187556, 0.10224627786123475]}, {\"categories\": [\"0\", \"1\", \"2\", \"3\", \"4\", \"5\", \"6\", \"7\", \"8\", \"9\"], \"mode\": \"lines\", \"name\": \"normalized_root_mean_squared_error_min\", \"stepped\": true, \"type\": \"scatter\", \"data\": [0.09779774115315207, 0.09779774115315207, 0.09779774115315207, 0.09779774115315207, 0.09779774115315207, 0.09779774115315207, 0.09779774115315207, 0.09779774115315207, 0.09670435079187556, 0.09670435079187556]}], \"mean_absolute_percentage_error\": [{\"categories\": [\"0\", \"1\", \"2\", \"3\", \"4\", \"5\", \"6\", \"7\", \"8\", \"9\"], \"mode\": \"markers\", \"name\": \"mean_absolute_percentage_error\", \"stepped\": false, \"type\": \"scatter\", \"data\": [53.27413725510597, 263.6697442486844, 261.2917479586433, 261.8498030902738, 271.39770104080037, 268.7770228572376, 267.4612148129667, 183.10307826436045, 58.063702308106585, 54.06632396689991]}, {\"categories\": [\"0\", \"1\", \"2\", \"3\", \"4\", \"5\", \"6\", \"7\", \"8\", \"9\"], \"mode\": \"lines\", \"name\": \"mean_absolute_percentage_error_min\", \"stepped\": true, \"type\": \"scatter\", \"data\": [53.27413725510597, 53.27413725510597, 53.27413725510597, 53.27413725510597, 53.27413725510597, 53.27413725510597, 53.27413725510597, 53.27413725510597, 53.27413725510597, 53.27413725510597]}], \"normalized_mean_absolute_error\": [{\"categories\": [\"0\", \"1\", \"2\", \"3\", \"4\", \"5\", \"6\", \"7\", \"8\", \"9\"], \"mode\": \"markers\", \"name\": \"normalized_mean_absolute_error\", \"stepped\": false, \"type\": \"scatter\", \"data\": [0.06256823396224268, 0.2037753502138992, 0.20391473919213574, 0.2035321316398474, 0.20976924680125147, 0.19556258037765023, 0.19770319558677812, 0.16421539830885626, 0.06311940057257479, 0.07080161062389546]}, {\"categories\": [\"0\", \"1\", \"2\", \"3\", \"4\", \"5\", \"6\", \"7\", \"8\", \"9\"], \"mode\": \"lines\", \"name\": \"normalized_mean_absolute_error_min\", \"stepped\": true, \"type\": \"scatter\", \"data\": [0.06256823396224268, 0.06256823396224268, 0.06256823396224268, 0.06256823396224268, 0.06256823396224268, 0.06256823396224268, 0.06256823396224268, 0.06256823396224268, 0.06256823396224268, 0.06256823396224268]}], \"normalized_root_mean_squared_log_error\": [{\"categories\": [\"0\", \"1\", \"2\", \"3\", \"4\", \"5\", \"6\", \"7\", \"8\", \"9\"], \"mode\": \"markers\", \"name\": \"normalized_root_mean_squared_log_error\", \"stepped\": false, \"type\": \"scatter\", \"data\": [0.0936024465126243, 0.20619732516940295, 0.20452937902734386, 0.2047888491074036, 0.2153712257734503, 0.20186938656664954, 0.20154206512268086, 0.17648319732872386, 0.09607577573692248, 0.09347266932752203]}, {\"categories\": [\"0\", \"1\", \"2\", \"3\", \"4\", \"5\", \"6\", \"7\", \"8\", \"9\"], \"mode\": \"lines\", \"name\": \"normalized_root_mean_squared_log_error_min\", \"stepped\": true, \"type\": \"scatter\", \"data\": [0.0936024465126243, 0.0936024465126243, 0.0936024465126243, 0.0936024465126243, 0.0936024465126243, 0.0936024465126243, 0.0936024465126243, 0.0936024465126243, 0.0936024465126243, 0.09347266932752203]}], \"normalized_median_absolute_error\": [{\"categories\": [\"0\", \"1\", \"2\", \"3\", \"4\", \"5\", \"6\", \"7\", \"8\", \"9\"], \"mode\": \"markers\", \"name\": \"normalized_median_absolute_error\", \"stepped\": false, \"type\": \"scatter\", \"data\": [0.036961527005767325, 0.18328917090526153, 0.1913162035798565, 0.19108615088276154, 0.18586723493314194, 0.17086022943965387, 0.1813744229690731, 0.1629906542056075, 0.04240203425512014, 0.04634887681055918]}, {\"categories\": [\"0\", \"1\", \"2\", \"3\", \"4\", \"5\", \"6\", \"7\", \"8\", \"9\"], \"mode\": \"lines\", \"name\": \"normalized_median_absolute_error_min\", \"stepped\": true, \"type\": \"scatter\", \"data\": [0.036961527005767325, 0.036961527005767325, 0.036961527005767325, 0.036961527005767325, 0.036961527005767325, 0.036961527005767325, 0.036961527005767325, 0.036961527005767325, 0.036961527005767325, 0.036961527005767325]}], \"root_mean_squared_error\": [{\"categories\": [\"0\", \"1\", \"2\", \"3\", \"4\", \"5\", \"6\", \"7\", \"8\", \"9\"], \"mode\": \"markers\", \"name\": \"root_mean_squared_error\", \"stepped\": false, \"type\": \"scatter\", \"data\": [31.39307491016181, 79.98614817186376, 79.93300632343382, 79.80642356746426, 84.07548723227787, 72.1567441247391, 73.59588209861687, 60.930511909898456, 31.042096604192054, 32.82105519345636]}, {\"categories\": [\"0\", \"1\", \"2\", \"3\", \"4\", \"5\", \"6\", \"7\", \"8\", \"9\"], \"mode\": \"lines\", \"name\": \"root_mean_squared_error_min\", \"stepped\": true, \"type\": \"scatter\", \"data\": [31.39307491016181, 31.39307491016181, 31.39307491016181, 31.39307491016181, 31.39307491016181, 31.39307491016181, 31.39307491016181, 31.39307491016181, 31.042096604192054, 31.042096604192054]}], \"explained_variance\": [{\"categories\": [\"0\", \"1\", \"2\", \"3\", \"4\", \"5\", \"6\", \"7\", \"8\", \"9\"], \"mode\": \"markers\", \"name\": \"explained_variance\", \"stepped\": false, \"type\": \"scatter\", \"data\": [0.8540942664208877, 0.0634248437013602, 0.0647713739530622, 0.06765988707667991, -0.04044458859119282, 0.27007419440815283, 0.2338758098573369, 0.5452612039157976, 0.8584103280337353, 0.8448007244589605]}, {\"categories\": [\"0\", \"1\", \"2\", \"3\", \"4\", \"5\", \"6\", \"7\", \"8\", \"9\"], \"mode\": \"lines\", \"name\": \"explained_variance_max\", \"stepped\": true, \"type\": \"scatter\", \"data\": [0.8540942664208877, 0.8540942664208877, 0.8540942664208877, 0.8540942664208877, 0.8540942664208877, 0.8540942664208877, 0.8540942664208877, 0.8540942664208877, 0.8584103280337353, 0.8584103280337353]}], \"spearman_correlation\": [{\"categories\": [\"0\", \"1\", \"2\", \"3\", \"4\", \"5\", \"6\", \"7\", \"8\", \"9\"], \"mode\": \"markers\", \"name\": \"spearman_correlation\", \"stepped\": false, \"type\": \"scatter\", \"data\": [0.9330016245137035, 0.39106304017959537, 0.39036261290350305, 0.39036261290350305, 0.2656140367286165, 0.5649152981316569, 0.5333240944129164, 0.7953208383302021, 0.9339822963131887, 0.934332509951235]}, {\"categories\": [\"0\", \"1\", \"2\", \"3\", \"4\", \"5\", \"6\", \"7\", \"8\", \"9\"], \"mode\": \"lines\", \"name\": \"spearman_correlation_max\", \"stepped\": true, \"type\": \"scatter\", \"data\": [0.9330016245137035, 0.9330016245137035, 0.9330016245137035, 0.9330016245137035, 0.9330016245137035, 0.9330016245137035, 0.9330016245137035, 0.9330016245137035, 0.9339822963131887, 0.934332509951235]}], \"mean_absolute_error\": [{\"categories\": [\"0\", \"1\", \"2\", \"3\", \"4\", \"5\", \"6\", \"7\", \"8\", \"9\"], \"mode\": \"markers\", \"name\": \"mean_absolute_error\", \"stepped\": false, \"type\": \"scatter\", \"data\": [20.084403101879897, 65.41188741866165, 65.45663128067557, 65.33381425639101, 67.33592822320172, 62.775588301225724, 63.46272578335578, 52.713142857142856, 20.261327583796508, 22.727317010270443]}, {\"categories\": [\"0\", \"1\", \"2\", \"3\", \"4\", \"5\", \"6\", \"7\", \"8\", \"9\"], \"mode\": \"lines\", \"name\": \"mean_absolute_error_min\", \"stepped\": true, \"type\": \"scatter\", \"data\": [20.084403101879897, 20.084403101879897, 20.084403101879897, 20.084403101879897, 20.084403101879897, 20.084403101879897, 20.084403101879897, 20.084403101879897, 20.084403101879897, 20.084403101879897]}], \"r2_score\": [{\"categories\": [\"0\", \"1\", \"2\", \"3\", \"4\", \"5\", \"6\", \"7\", \"8\", \"9\"], \"mode\": \"markers\", \"name\": \"r2_score\", \"stepped\": false, \"type\": \"scatter\", \"data\": [0.8540748893674331, 0.05744890269697178, 0.058673497737614266, 0.06166572342003601, -0.04191284498392456, 0.23320490248010023, 0.20222823641951715, 0.45213652697469187, 0.8576191739359654, 0.8413744567162724]}, {\"categories\": [\"0\", \"1\", \"2\", \"3\", \"4\", \"5\", \"6\", \"7\", \"8\", \"9\"], \"mode\": \"lines\", \"name\": \"r2_score_max\", \"stepped\": true, \"type\": \"scatter\", \"data\": [0.8540748893674331, 0.8540748893674331, 0.8540748893674331, 0.8540748893674331, 0.8540748893674331, 0.8540748893674331, 0.8540748893674331, 0.8540748893674331, 0.8576191739359654, 0.8576191739359654]}], \"root_mean_squared_log_error\": [{\"categories\": [\"0\", \"1\", \"2\", \"3\", \"4\", \"5\", \"6\", \"7\", \"8\", \"9\"], \"mode\": \"markers\", \"name\": \"root_mean_squared_log_error\", \"stepped\": false, \"type\": \"scatter\", \"data\": [0.47592212065924955, 1.0484113602271246, 1.0399306794901406, 1.0412499564465716, 1.0950561050266798, 1.0264059341442964, 1.0247416665791338, 0.8973297244114545, 0.48849777581969167, 0.47526226789419684]}, {\"categories\": [\"0\", \"1\", \"2\", \"3\", \"4\", \"5\", \"6\", \"7\", \"8\", \"9\"], \"mode\": \"lines\", \"name\": \"root_mean_squared_log_error_min\", \"stepped\": true, \"type\": \"scatter\", \"data\": [0.47592212065924955, 0.47592212065924955, 0.47592212065924955, 0.47592212065924955, 0.47592212065924955, 0.47592212065924955, 0.47592212065924955, 0.47592212065924955, 0.47592212065924955, 0.47526226789419684]}], \"median_absolute_error\": [{\"categories\": [\"0\", \"1\", \"2\", \"3\", \"4\", \"5\", \"6\", \"7\", \"8\", \"9\"], \"mode\": \"markers\", \"name\": \"median_absolute_error\", \"stepped\": false, \"type\": \"scatter\", \"data\": [11.864650168851313, 58.83582386058896, 61.41250134913393, 61.33865443336646, 59.663382413538564, 54.84613365012889, 58.22118977307247, 52.32000000000001, 13.611052995893566, 14.877989456189496]}, {\"categories\": [\"0\", \"1\", \"2\", \"3\", \"4\", \"5\", \"6\", \"7\", \"8\", \"9\"], \"mode\": \"lines\", \"name\": \"median_absolute_error_min\", \"stepped\": true, \"type\": \"scatter\", \"data\": [11.864650168851313, 11.864650168851313, 11.864650168851313, 11.864650168851313, 11.864650168851313, 11.864650168851313, 11.864650168851313, 11.864650168851313, 11.864650168851313, 11.864650168851313]}]}, \"metricName\": null, \"primaryMetricName\": \"normalized_root_mean_squared_error\", \"showLegend\": false}, \"run_metrics\": [{\"name\": \"experiment_status\", \"run_id\": \"AutoML_8cbe242f-5f80-4e94-b3f3-4a3493e66e20\", \"categories\": [0, 1, 2, 3, 4, 5, 6, 7, 8, 9, 10, 11, 12, 13, 14, 15], \"series\": [{\"data\": [\"DatasetFeaturization\", \"DatasetFeaturizationCompleted\", \"DatasetCrossValidationSplit\", \"DatasetFeaturization\", \"DatasetFeaturization\", \"DatasetFeaturizationCompleted\", \"DatasetFeaturizationCompleted\", \"ModelSelection\", \"BestRunExplainModel\", \"ModelExplanationDataSetSetup\", \"PickSurrogateModel\", \"EngineeredFeatureExplanations\", \"EngineeredFeatureExplanations\", \"RawFeaturesExplanations\", \"RawFeaturesExplanations\", \"BestRunExplainModel\"]}]}, {\"name\": \"experiment_status_description\", \"run_id\": \"AutoML_8cbe242f-5f80-4e94-b3f3-4a3493e66e20\", \"categories\": [0, 1, 2, 3, 4, 5, 6, 7, 8, 9, 10, 11, 12, 13, 14, 15], \"series\": [{\"data\": [\"Beginning to featurize the dataset.\", \"Completed featurizing the dataset.\", \"Generating individually featurized CV splits.\", \"Beginning to featurize the CV split.\", \"Completed featurizing the CV split.\", \"Beginning to featurize the CV split.\", \"Completed featurizing the CV split.\", \"Beginning model selection.\", \"Best run model explanations started\", \"Model explanations data setup completed\", \"Choosing LightGBM as the surrogate model for explanations\", \"Computation of engineered features started\", \"Computation of engineered features completed\", \"Computation of raw features started\", \"Computation of raw features completed\", \"Best run model explanations completed\"]}]}, {\"name\": \"root_mean_squared_error\", \"run_id\": \"AutoML_8cbe242f-5f80-4e94-b3f3-4a3493e66e20\", \"categories\": [0], \"series\": [{\"data\": [31.042096604192054]}]}, {\"name\": \"mean_absolute_percentage_error\", \"run_id\": \"AutoML_8cbe242f-5f80-4e94-b3f3-4a3493e66e20\", \"categories\": [0], \"series\": [{\"data\": [58.063702308106585]}]}, {\"name\": \"median_absolute_error\", \"run_id\": \"AutoML_8cbe242f-5f80-4e94-b3f3-4a3493e66e20\", \"categories\": [0], \"series\": [{\"data\": [13.611052995893566]}]}, {\"name\": \"normalized_median_absolute_error\", \"run_id\": \"AutoML_8cbe242f-5f80-4e94-b3f3-4a3493e66e20\", \"categories\": [0], \"series\": [{\"data\": [0.04240203425512014]}]}, {\"name\": \"normalized_mean_absolute_error\", \"run_id\": \"AutoML_8cbe242f-5f80-4e94-b3f3-4a3493e66e20\", \"categories\": [0], \"series\": [{\"data\": [0.06311940057257479]}]}, {\"name\": \"r2_score\", \"run_id\": \"AutoML_8cbe242f-5f80-4e94-b3f3-4a3493e66e20\", \"categories\": [0], \"series\": [{\"data\": [0.8576191739359654]}]}, {\"name\": \"mean_absolute_error\", \"run_id\": \"AutoML_8cbe242f-5f80-4e94-b3f3-4a3493e66e20\", \"categories\": [0], \"series\": [{\"data\": [20.261327583796508]}]}, {\"name\": \"spearman_correlation\", \"run_id\": \"AutoML_8cbe242f-5f80-4e94-b3f3-4a3493e66e20\", \"categories\": [0], \"series\": [{\"data\": [0.9339822963131887]}]}, {\"name\": \"normalized_root_mean_squared_error\", \"run_id\": \"AutoML_8cbe242f-5f80-4e94-b3f3-4a3493e66e20\", \"categories\": [0], \"series\": [{\"data\": [0.09670435079187556]}]}, {\"name\": \"normalized_root_mean_squared_log_error\", \"run_id\": \"AutoML_8cbe242f-5f80-4e94-b3f3-4a3493e66e20\", \"categories\": [0], \"series\": [{\"data\": [0.09607577573692248]}]}, {\"name\": \"root_mean_squared_log_error\", \"run_id\": \"AutoML_8cbe242f-5f80-4e94-b3f3-4a3493e66e20\", \"categories\": [0], \"series\": [{\"data\": [0.48849777581969167]}]}, {\"name\": \"explained_variance\", \"run_id\": \"AutoML_8cbe242f-5f80-4e94-b3f3-4a3493e66e20\", \"categories\": [0], \"series\": [{\"data\": [0.8584103280337353]}]}], \"run_logs\": \"\\nRun is completed.\", \"graph\": {}, \"widget_settings\": {\"childWidgetDisplay\": \"popup\", \"send_telemetry\": false, \"log_level\": \"INFO\", \"sdk_version\": \"1.6.0\"}, \"loading\": false}"
     },
     "metadata": {},
     "output_type": "display_data"
    },
    {
     "data": {
      "application/vnd.jupyter.widget-view+json": {
       "model_id": "2dc495705d4c45c8934d3f9edc6e75f9",
       "version_major": 2,
       "version_minor": 0
      },
      "text/plain": [
       "_UserRunWidget(widget_settings={'childWidgetDisplay': 'popup', 'send_telemetry': False, 'log_level': 'INFO', '…"
      ]
     },
     "metadata": {},
     "output_type": "display_data"
    },
    {
     "data": {
      "application/aml.mini.widget.v1": "{\"loading\": true}"
     },
     "metadata": {},
     "output_type": "display_data"
    }
   ],
   "source": [
    "from azureml.widgets import RunDetails\n",
    "RunDetails(remote_run).show()"
   ]
  },
  {
   "cell_type": "markdown",
   "metadata": {},
   "source": [
    "## Retrieve the Best Model\n",
    "Below we select the best model from all the training iterations using get_output method."
   ]
  },
  {
   "cell_type": "code",
   "execution_count": 13,
   "metadata": {},
   "outputs": [
    {
     "data": {
      "text/html": [
       "[('timeseriestransformer', TimeSeriesTransformer(featurization_config=None, logger=None,\n",
       "           pipeline_type=<TimeSeriesPipelineType.FULL: 1>)), ('prefittedsoftvotingregressor', PreFittedSoftVotingRegressor(estimators=[('0', Pipeline(memory=None,\n",
       "     steps=[('autoarima', <azureml.automl.runtime.shared.forecasting_models.AutoArima object at 0x7f6454df3e10>)])), ('7', Pipeline(memory=None,\n",
       "     steps=[('standardscalerwrapper', <azureml.automl.runtime.shared.model_wrappers.StandardScalerWrapper object at...ators=25, n_jobs=1,\n",
       "           oob_score=False, random_state=None, verbose=0, warm_start=False))]))],\n",
       "               flatten_transform=None,\n",
       "               weights=[0.9166666666666666, 0.08333333333333333]))]"
      ],
      "text/plain": [
       "[('timeseriestransformer',\n",
       "  TimeSeriesTransformer(featurization_config=None, logger=None,\n",
       "             pipeline_type=<TimeSeriesPipelineType.FULL: 1>)),\n",
       " ('prefittedsoftvotingregressor',\n",
       "  PreFittedSoftVotingRegressor(estimators=[('0', Pipeline(memory=None,\n",
       "       steps=[('autoarima', <azureml.automl.runtime.shared.forecasting_models.AutoArima object at 0x7f6454df3e10>)])), ('7', Pipeline(memory=None,\n",
       "       steps=[('standardscalerwrapper', <azureml.automl.runtime.shared.model_wrappers.StandardScalerWrapper object at...ators=25, n_jobs=1,\n",
       "             oob_score=False, random_state=None, verbose=0, warm_start=False))]))],\n",
       "                 flatten_transform=None,\n",
       "                 weights=[0.9166666666666666, 0.08333333333333333]))]"
      ]
     },
     "execution_count": 13,
     "metadata": {},
     "output_type": "execute_result"
    }
   ],
   "source": [
    "best_run, fitted_model = remote_run.get_output()\n",
    "fitted_model.steps"
   ]
  },
  {
   "cell_type": "markdown",
   "metadata": {},
   "source": [
    "## Featurization\n",
    "You can access the engineered feature names generated in time-series featurization."
   ]
  },
  {
   "cell_type": "code",
   "execution_count": 14,
   "metadata": {},
   "outputs": [
    {
     "data": {
      "text/html": [
       "['grain_team_tag', 'quarter', 'day', 'wday', 'qday', 'yday', 'week']"
      ],
      "text/plain": [
       "['grain_team_tag', 'quarter', 'day', 'wday', 'qday', 'yday', 'week']"
      ]
     },
     "execution_count": 14,
     "metadata": {},
     "output_type": "execute_result"
    }
   ],
   "source": [
    "fitted_model.named_steps['timeseriestransformer'].get_engineered_feature_names()"
   ]
  },
  {
   "cell_type": "markdown",
   "metadata": {},
   "source": [
    "### View featurization summary\n",
    "You can also see what featurization steps were performed on different raw features in the user data. For each raw feature in the user data, the following information is displayed:\n",
    "\n",
    "+ Raw feature name\n",
    "+ Number of engineered features formed out of this raw feature\n",
    "+ Type detected\n",
    "+ If feature was dropped\n",
    "+ List of feature transformations for the raw feature"
   ]
  },
  {
   "cell_type": "code",
   "execution_count": 15,
   "metadata": {},
   "outputs": [
    {
     "data": {
      "text/html": [
       "<div>\n",
       "<style scoped>\n",
       "    .dataframe tbody tr th:only-of-type {\n",
       "        vertical-align: middle;\n",
       "    }\n",
       "\n",
       "    .dataframe tbody tr th {\n",
       "        vertical-align: top;\n",
       "    }\n",
       "\n",
       "    .dataframe thead th {\n",
       "        text-align: right;\n",
       "    }\n",
       "</style>\n",
       "<table border=\"1\" class=\"dataframe\">\n",
       "  <thead>\n",
       "    <tr style=\"text-align: right;\">\n",
       "      <th></th>\n",
       "      <th>Dropped</th>\n",
       "      <th>EngineeredFeatureCount</th>\n",
       "      <th>RawFeatureName</th>\n",
       "      <th>Transformations</th>\n",
       "      <th>TypeDetected</th>\n",
       "    </tr>\n",
       "  </thead>\n",
       "  <tbody>\n",
       "    <tr>\n",
       "      <th>0</th>\n",
       "      <td>Yes</td>\n",
       "      <td>1</td>\n",
       "      <td>team_tag</td>\n",
       "      <td>[GrainMarker-LabelEncoder]</td>\n",
       "      <td>Ignore</td>\n",
       "    </tr>\n",
       "    <tr>\n",
       "      <th>1</th>\n",
       "      <td>No</td>\n",
       "      <td>6</td>\n",
       "      <td>date</td>\n",
       "      <td>[DateTimeTransformer, DateTimeTransformer, DateTimeTransformer, DateTimeTransformer, DateTimeTransformer, DateTimeTransformer]</td>\n",
       "      <td>DateTime</td>\n",
       "    </tr>\n",
       "  </tbody>\n",
       "</table>\n",
       "</div>"
      ],
      "text/plain": [
       "  Dropped  EngineeredFeatureCount RawFeatureName  \\\n",
       "0  Yes     1                       team_tag        \n",
       "1  No      6                       date            \n",
       "\n",
       "                                                                                                                  Transformations  \\\n",
       "0  [GrainMarker-LabelEncoder]                                                                                                       \n",
       "1  [DateTimeTransformer, DateTimeTransformer, DateTimeTransformer, DateTimeTransformer, DateTimeTransformer, DateTimeTransformer]   \n",
       "\n",
       "  TypeDetected  \n",
       "0  Ignore       \n",
       "1  DateTime     "
      ]
     },
     "execution_count": 15,
     "metadata": {},
     "output_type": "execute_result"
    }
   ],
   "source": [
    "# Get the featurization summary as a list of JSON\n",
    "featurization_summary = fitted_model.named_steps['timeseriestransformer'].get_featurization_summary()\n",
    "# View the featurization summary as a pandas dataframe\n",
    "pd.DataFrame.from_records(featurization_summary)"
   ]
  },
  {
   "cell_type": "markdown",
   "metadata": {},
   "source": [
    "## Retrieve the Best Model's explanation\n",
    "Retrieve the explanation from the best_run which includes explanations for engineered features and raw features. Make sure that the run for generating explanations for the best model is completed."
   ]
  },
  {
   "cell_type": "code",
   "execution_count": 16,
   "metadata": {},
   "outputs": [
    {
     "name": "stdout",
     "output_type": "stream",
     "text": [
      "AutoML_8cbe242f-5f80-4e94-b3f3-4a3493e66e20_ModelExplain\n"
     ]
    }
   ],
   "source": [
    "# Wait for the best model explanation run to complete\n",
    "from azureml.core.run import Run\n",
    "model_explainability_run_id = remote_run.get_properties().get('ModelExplainRunId')\n",
    "print(model_explainability_run_id)\n",
    "if model_explainability_run_id is not None:\n",
    "    model_explainability_run = Run(experiment=experiment, run_id=model_explainability_run_id)\n",
    "    model_explainability_run.wait_for_completion()\n",
    "\n",
    "# Get the best run object\n",
    "best_run, fitted_model = remote_run.get_output()"
   ]
  },
  {
   "cell_type": "code",
   "execution_count": 17,
   "metadata": {},
   "outputs": [
    {
     "data": {
      "text/plain": [
       "{'grain_team_tag': 47.49837012325396,\n",
       " 'wday': 35.59066836850535,\n",
       " 'day': 3.5734735006523834,\n",
       " 'qday': 1.9643888895700974,\n",
       " 'yday': 1.0993477319248512,\n",
       " 'week': 0.0,\n",
       " 'quarter': 0.0}"
      ]
     },
     "execution_count": 17,
     "metadata": {},
     "output_type": "execute_result"
    }
   ],
   "source": [
    "client = ExplanationClient.from_run(best_run)\n",
    "engineered_explanations = client.download_model_explanation(raw=False)\n",
    "exp_data = engineered_explanations.get_feature_importance_dict()\n",
    "exp_data"
   ]
  },
  {
   "cell_type": "code",
   "execution_count": 18,
   "metadata": {},
   "outputs": [
    {
     "data": {
      "text/plain": [
       "{'team_tag': 47.49837012325396, 'date': 42.22787849065268}"
      ]
     },
     "execution_count": 18,
     "metadata": {},
     "output_type": "execute_result"
    }
   ],
   "source": [
    "client = ExplanationClient.from_run(best_run)\n",
    "engineered_explanations = client.download_model_explanation(raw=True)\n",
    "exp_data = engineered_explanations.get_feature_importance_dict()\n",
    "exp_data"
   ]
  },
  {
   "cell_type": "markdown",
   "metadata": {},
   "source": [
    "## Forecasting\n",
    "\n",
    "Now that we have retrieved the best pipeline/model, it can be used to make predictions on test data. First, we remove the target values from the test set:"
   ]
  },
  {
   "cell_type": "code",
   "execution_count": 19,
   "metadata": {},
   "outputs": [],
   "source": [
    "test = test_dataset.to_pandas_dataframe().reset_index(drop=True)\n",
    "y_test = test.pop(target_column_name).values\n",
    "# The featurized data, aligned to y, will also be returned.\n",
    "# This contains the assumptions that were made in the forecast\n",
    "# and helps align the forecast to the original data\n",
    "y_predictions, X_trans = fitted_model.forecast(test)"
   ]
  },
  {
   "cell_type": "markdown",
   "metadata": {},
   "source": [
    "### Evaluate\n",
    "To evaluate the accuracy of the forecast, we'll compare against the actual sales quantities for some select metrics, included the mean absolute percentage error (MAPE).\n",
    "\n",
    "It is a good practice to always align the output explicitly to the input, as the count and order of the rows may have changed during transformations that span multiple rows."
   ]
  },
  {
   "cell_type": "code",
   "execution_count": 21,
   "metadata": {},
   "outputs": [],
   "source": [
    "from forecasting_helper import align_outputs\n",
    "\n",
    "df_all = align_outputs(y_predictions, X_trans, test, y_test, target_column_name)"
   ]
  },
  {
   "cell_type": "code",
   "execution_count": 22,
   "metadata": {},
   "outputs": [
    {
     "name": "stdout",
     "output_type": "stream",
     "text": [
      "[Test data scores]\n",
      "\n",
      "mean_absolute_percentage_error:   148.952\n",
      "mean_absolute_error:   19.625\n",
      "root_mean_squared_log_error:   0.732\n",
      "normalized_root_mean_squared_error:   0.095\n",
      "spearman_correlation:   0.857\n",
      "root_mean_squared_error:   29.016\n",
      "normalized_median_absolute_error:   0.038\n",
      "normalized_mean_absolute_error:   0.064\n",
      "median_absolute_error:   11.505\n",
      "explained_variance:   0.886\n",
      "r2_score:   0.882\n",
      "normalized_root_mean_squared_log_error:   0.158\n"
     ]
    },
    {
     "data": {
      "image/png": "[encoded data removed]",
      "text/plain": [
       "<Figure size 432x288 with 1 Axes>"
      ]
     },
     "metadata": {
      "needs_background": "light"
     },
     "output_type": "display_data"
    }
   ],
   "source": [
    "from azureml.automl.core.shared import constants\n",
    "from azureml.automl.runtime.shared.score import scoring\n",
    "from matplotlib import pyplot as plt\n",
    "\n",
    "# use automl metrics module\n",
    "scores = scoring.score_regression(\n",
    "    y_test=df_all[target_column_name],\n",
    "    y_pred=df_all['predicted'],\n",
    "    metrics=list(constants.Metric.SCALAR_REGRESSION_SET))\n",
    "\n",
    "print(\"[Test data scores]\\n\")\n",
    "for key, value in scores.items():    \n",
    "    print('{}:   {:.3f}'.format(key, value))\n",
    "    \n",
    "# Plot outputs\n",
    "%matplotlib inline\n",
    "test_pred = plt.scatter(df_all[target_column_name], df_all['predicted'], color='b')\n",
    "test_test = plt.scatter(df_all[target_column_name], df_all[target_column_name], color='g')\n",
    "plt.legend((test_pred, test_test), ('prediction', 'truth'), loc='upper left', fontsize=8)\n",
    "plt.show()"
   ]
  },
  {
   "cell_type": "markdown",
   "metadata": {},
   "source": [
    "Looking at `X_trans` is also useful to see what featurization happened to the data."
   ]
  },
  {
   "cell_type": "code",
   "execution_count": 23,
   "metadata": {},
   "outputs": [
    {
     "data": {
      "text/html": [
       "<div>\n",
       "<style scoped>\n",
       "    .dataframe tbody tr th:only-of-type {\n",
       "        vertical-align: middle;\n",
       "    }\n",
       "\n",
       "    .dataframe tbody tr th {\n",
       "        vertical-align: top;\n",
       "    }\n",
       "\n",
       "    .dataframe thead th {\n",
       "        text-align: right;\n",
       "    }\n",
       "</style>\n",
       "<table border=\"1\" class=\"dataframe\">\n",
       "  <thead>\n",
       "    <tr style=\"text-align: right;\">\n",
       "      <th></th>\n",
       "      <th></th>\n",
       "      <th>grain_team_tag</th>\n",
       "      <th>quarter</th>\n",
       "      <th>day</th>\n",
       "      <th>wday</th>\n",
       "      <th>qday</th>\n",
       "      <th>yday</th>\n",
       "      <th>week</th>\n",
       "      <th>_automl_target_col</th>\n",
       "    </tr>\n",
       "    <tr>\n",
       "      <th>date</th>\n",
       "      <th>team_tag</th>\n",
       "      <th></th>\n",
       "      <th></th>\n",
       "      <th></th>\n",
       "      <th></th>\n",
       "      <th></th>\n",
       "      <th></th>\n",
       "      <th></th>\n",
       "      <th></th>\n",
       "    </tr>\n",
       "  </thead>\n",
       "  <tbody>\n",
       "    <tr>\n",
       "      <th>2020-04-04</th>\n",
       "      <th>azure-devops</th>\n",
       "      <td>0</td>\n",
       "      <td>2</td>\n",
       "      <td>4</td>\n",
       "      <td>5</td>\n",
       "      <td>4</td>\n",
       "      <td>95</td>\n",
       "      <td>14</td>\n",
       "      <td>106.17</td>\n",
       "    </tr>\n",
       "    <tr>\n",
       "      <th>2020-04-05</th>\n",
       "      <th>azure-devops</th>\n",
       "      <td>0</td>\n",
       "      <td>2</td>\n",
       "      <td>5</td>\n",
       "      <td>6</td>\n",
       "      <td>5</td>\n",
       "      <td>96</td>\n",
       "      <td>14</td>\n",
       "      <td>71.68</td>\n",
       "    </tr>\n",
       "    <tr>\n",
       "      <th>2020-04-06</th>\n",
       "      <th>azure-devops</th>\n",
       "      <td>0</td>\n",
       "      <td>2</td>\n",
       "      <td>6</td>\n",
       "      <td>0</td>\n",
       "      <td>6</td>\n",
       "      <td>97</td>\n",
       "      <td>15</td>\n",
       "      <td>114.36</td>\n",
       "    </tr>\n",
       "    <tr>\n",
       "      <th>2020-04-07</th>\n",
       "      <th>azure-devops</th>\n",
       "      <td>0</td>\n",
       "      <td>2</td>\n",
       "      <td>7</td>\n",
       "      <td>1</td>\n",
       "      <td>7</td>\n",
       "      <td>98</td>\n",
       "      <td>15</td>\n",
       "      <td>205.64</td>\n",
       "    </tr>\n",
       "    <tr>\n",
       "      <th>2020-04-08</th>\n",
       "      <th>azure-devops</th>\n",
       "      <td>0</td>\n",
       "      <td>2</td>\n",
       "      <td>8</td>\n",
       "      <td>2</td>\n",
       "      <td>8</td>\n",
       "      <td>99</td>\n",
       "      <td>15</td>\n",
       "      <td>280.27</td>\n",
       "    </tr>\n",
       "    <tr>\n",
       "      <th>2020-04-09</th>\n",
       "      <th>azure-devops</th>\n",
       "      <td>0</td>\n",
       "      <td>2</td>\n",
       "      <td>9</td>\n",
       "      <td>3</td>\n",
       "      <td>9</td>\n",
       "      <td>100</td>\n",
       "      <td>15</td>\n",
       "      <td>281.73</td>\n",
       "    </tr>\n",
       "    <tr>\n",
       "      <th>2020-04-10</th>\n",
       "      <th>azure-devops</th>\n",
       "      <td>0</td>\n",
       "      <td>2</td>\n",
       "      <td>10</td>\n",
       "      <td>4</td>\n",
       "      <td>10</td>\n",
       "      <td>101</td>\n",
       "      <td>15</td>\n",
       "      <td>209.29</td>\n",
       "    </tr>\n",
       "    <tr>\n",
       "      <th>2020-04-04</th>\n",
       "      <th>azure-storage</th>\n",
       "      <td>2</td>\n",
       "      <td>2</td>\n",
       "      <td>4</td>\n",
       "      <td>5</td>\n",
       "      <td>4</td>\n",
       "      <td>95</td>\n",
       "      <td>14</td>\n",
       "      <td>85.10</td>\n",
       "    </tr>\n",
       "    <tr>\n",
       "      <th>2020-04-05</th>\n",
       "      <th>azure-storage</th>\n",
       "      <td>2</td>\n",
       "      <td>2</td>\n",
       "      <td>5</td>\n",
       "      <td>6</td>\n",
       "      <td>5</td>\n",
       "      <td>96</td>\n",
       "      <td>14</td>\n",
       "      <td>40.26</td>\n",
       "    </tr>\n",
       "    <tr>\n",
       "      <th>2020-04-06</th>\n",
       "      <th>azure-storage</th>\n",
       "      <td>2</td>\n",
       "      <td>2</td>\n",
       "      <td>6</td>\n",
       "      <td>0</td>\n",
       "      <td>6</td>\n",
       "      <td>97</td>\n",
       "      <td>15</td>\n",
       "      <td>74.13</td>\n",
       "    </tr>\n",
       "    <tr>\n",
       "      <th>2020-04-07</th>\n",
       "      <th>azure-storage</th>\n",
       "      <td>2</td>\n",
       "      <td>2</td>\n",
       "      <td>7</td>\n",
       "      <td>1</td>\n",
       "      <td>7</td>\n",
       "      <td>98</td>\n",
       "      <td>15</td>\n",
       "      <td>127.51</td>\n",
       "    </tr>\n",
       "    <tr>\n",
       "      <th>2020-04-08</th>\n",
       "      <th>azure-storage</th>\n",
       "      <td>2</td>\n",
       "      <td>2</td>\n",
       "      <td>8</td>\n",
       "      <td>2</td>\n",
       "      <td>8</td>\n",
       "      <td>99</td>\n",
       "      <td>15</td>\n",
       "      <td>184.07</td>\n",
       "    </tr>\n",
       "    <tr>\n",
       "      <th>2020-04-09</th>\n",
       "      <th>azure-storage</th>\n",
       "      <td>2</td>\n",
       "      <td>2</td>\n",
       "      <td>9</td>\n",
       "      <td>3</td>\n",
       "      <td>9</td>\n",
       "      <td>100</td>\n",
       "      <td>15</td>\n",
       "      <td>186.90</td>\n",
       "    </tr>\n",
       "    <tr>\n",
       "      <th>2020-04-10</th>\n",
       "      <th>azure-storage</th>\n",
       "      <td>2</td>\n",
       "      <td>2</td>\n",
       "      <td>10</td>\n",
       "      <td>4</td>\n",
       "      <td>10</td>\n",
       "      <td>101</td>\n",
       "      <td>15</td>\n",
       "      <td>145.81</td>\n",
       "    </tr>\n",
       "    <tr>\n",
       "      <th>2020-04-04</th>\n",
       "      <th>azure-virtual-machine</th>\n",
       "      <td>3</td>\n",
       "      <td>2</td>\n",
       "      <td>4</td>\n",
       "      <td>5</td>\n",
       "      <td>4</td>\n",
       "      <td>95</td>\n",
       "      <td>14</td>\n",
       "      <td>33.29</td>\n",
       "    </tr>\n",
       "    <tr>\n",
       "      <th>2020-04-05</th>\n",
       "      <th>azure-virtual-machine</th>\n",
       "      <td>3</td>\n",
       "      <td>2</td>\n",
       "      <td>5</td>\n",
       "      <td>6</td>\n",
       "      <td>5</td>\n",
       "      <td>96</td>\n",
       "      <td>14</td>\n",
       "      <td>63.61</td>\n",
       "    </tr>\n",
       "    <tr>\n",
       "      <th>2020-04-06</th>\n",
       "      <th>azure-virtual-machine</th>\n",
       "      <td>3</td>\n",
       "      <td>2</td>\n",
       "      <td>6</td>\n",
       "      <td>0</td>\n",
       "      <td>6</td>\n",
       "      <td>97</td>\n",
       "      <td>15</td>\n",
       "      <td>87.56</td>\n",
       "    </tr>\n",
       "    <tr>\n",
       "      <th>2020-04-07</th>\n",
       "      <th>azure-virtual-machine</th>\n",
       "      <td>3</td>\n",
       "      <td>2</td>\n",
       "      <td>7</td>\n",
       "      <td>1</td>\n",
       "      <td>7</td>\n",
       "      <td>98</td>\n",
       "      <td>15</td>\n",
       "      <td>134.15</td>\n",
       "    </tr>\n",
       "    <tr>\n",
       "      <th>2020-04-08</th>\n",
       "      <th>azure-virtual-machine</th>\n",
       "      <td>3</td>\n",
       "      <td>2</td>\n",
       "      <td>8</td>\n",
       "      <td>2</td>\n",
       "      <td>8</td>\n",
       "      <td>99</td>\n",
       "      <td>15</td>\n",
       "      <td>194.22</td>\n",
       "    </tr>\n",
       "    <tr>\n",
       "      <th>2020-04-09</th>\n",
       "      <th>azure-virtual-machine</th>\n",
       "      <td>3</td>\n",
       "      <td>2</td>\n",
       "      <td>9</td>\n",
       "      <td>3</td>\n",
       "      <td>9</td>\n",
       "      <td>100</td>\n",
       "      <td>15</td>\n",
       "      <td>199.04</td>\n",
       "    </tr>\n",
       "    <tr>\n",
       "      <th>2020-04-10</th>\n",
       "      <th>azure-virtual-machine</th>\n",
       "      <td>3</td>\n",
       "      <td>2</td>\n",
       "      <td>10</td>\n",
       "      <td>4</td>\n",
       "      <td>10</td>\n",
       "      <td>101</td>\n",
       "      <td>15</td>\n",
       "      <td>97.50</td>\n",
       "    </tr>\n",
       "    <tr>\n",
       "      <th>2020-04-04</th>\n",
       "      <th>azure-functions</th>\n",
       "      <td>1</td>\n",
       "      <td>2</td>\n",
       "      <td>4</td>\n",
       "      <td>5</td>\n",
       "      <td>4</td>\n",
       "      <td>95</td>\n",
       "      <td>14</td>\n",
       "      <td>44.67</td>\n",
       "    </tr>\n",
       "    <tr>\n",
       "      <th>2020-04-05</th>\n",
       "      <th>azure-functions</th>\n",
       "      <td>1</td>\n",
       "      <td>2</td>\n",
       "      <td>5</td>\n",
       "      <td>6</td>\n",
       "      <td>5</td>\n",
       "      <td>96</td>\n",
       "      <td>14</td>\n",
       "      <td>20.98</td>\n",
       "    </tr>\n",
       "    <tr>\n",
       "      <th>2020-04-06</th>\n",
       "      <th>azure-functions</th>\n",
       "      <td>1</td>\n",
       "      <td>2</td>\n",
       "      <td>6</td>\n",
       "      <td>0</td>\n",
       "      <td>6</td>\n",
       "      <td>97</td>\n",
       "      <td>15</td>\n",
       "      <td>40.09</td>\n",
       "    </tr>\n",
       "    <tr>\n",
       "      <th>2020-04-07</th>\n",
       "      <th>azure-functions</th>\n",
       "      <td>1</td>\n",
       "      <td>2</td>\n",
       "      <td>7</td>\n",
       "      <td>1</td>\n",
       "      <td>7</td>\n",
       "      <td>98</td>\n",
       "      <td>15</td>\n",
       "      <td>72.95</td>\n",
       "    </tr>\n",
       "    <tr>\n",
       "      <th>2020-04-08</th>\n",
       "      <th>azure-functions</th>\n",
       "      <td>1</td>\n",
       "      <td>2</td>\n",
       "      <td>8</td>\n",
       "      <td>2</td>\n",
       "      <td>8</td>\n",
       "      <td>99</td>\n",
       "      <td>15</td>\n",
       "      <td>98.48</td>\n",
       "    </tr>\n",
       "    <tr>\n",
       "      <th>2020-04-09</th>\n",
       "      <th>azure-functions</th>\n",
       "      <td>1</td>\n",
       "      <td>2</td>\n",
       "      <td>9</td>\n",
       "      <td>3</td>\n",
       "      <td>9</td>\n",
       "      <td>100</td>\n",
       "      <td>15</td>\n",
       "      <td>94.68</td>\n",
       "    </tr>\n",
       "    <tr>\n",
       "      <th>2020-04-10</th>\n",
       "      <th>azure-functions</th>\n",
       "      <td>1</td>\n",
       "      <td>2</td>\n",
       "      <td>10</td>\n",
       "      <td>4</td>\n",
       "      <td>10</td>\n",
       "      <td>101</td>\n",
       "      <td>15</td>\n",
       "      <td>66.42</td>\n",
       "    </tr>\n",
       "    <tr>\n",
       "      <th>2020-04-04</th>\n",
       "      <th>azure-web-app-service</th>\n",
       "      <td>4</td>\n",
       "      <td>2</td>\n",
       "      <td>4</td>\n",
       "      <td>5</td>\n",
       "      <td>4</td>\n",
       "      <td>95</td>\n",
       "      <td>14</td>\n",
       "      <td>12.88</td>\n",
       "    </tr>\n",
       "    <tr>\n",
       "      <th>2020-04-05</th>\n",
       "      <th>azure-web-app-service</th>\n",
       "      <td>4</td>\n",
       "      <td>2</td>\n",
       "      <td>5</td>\n",
       "      <td>6</td>\n",
       "      <td>5</td>\n",
       "      <td>96</td>\n",
       "      <td>14</td>\n",
       "      <td>10.46</td>\n",
       "    </tr>\n",
       "    <tr>\n",
       "      <th>2020-04-06</th>\n",
       "      <th>azure-web-app-service</th>\n",
       "      <td>4</td>\n",
       "      <td>2</td>\n",
       "      <td>6</td>\n",
       "      <td>0</td>\n",
       "      <td>6</td>\n",
       "      <td>97</td>\n",
       "      <td>15</td>\n",
       "      <td>15.10</td>\n",
       "    </tr>\n",
       "    <tr>\n",
       "      <th>2020-04-07</th>\n",
       "      <th>azure-web-app-service</th>\n",
       "      <td>4</td>\n",
       "      <td>2</td>\n",
       "      <td>7</td>\n",
       "      <td>1</td>\n",
       "      <td>7</td>\n",
       "      <td>98</td>\n",
       "      <td>15</td>\n",
       "      <td>29.37</td>\n",
       "    </tr>\n",
       "    <tr>\n",
       "      <th>2020-04-08</th>\n",
       "      <th>azure-web-app-service</th>\n",
       "      <td>4</td>\n",
       "      <td>2</td>\n",
       "      <td>8</td>\n",
       "      <td>2</td>\n",
       "      <td>8</td>\n",
       "      <td>99</td>\n",
       "      <td>15</td>\n",
       "      <td>39.52</td>\n",
       "    </tr>\n",
       "    <tr>\n",
       "      <th>2020-04-09</th>\n",
       "      <th>azure-web-app-service</th>\n",
       "      <td>4</td>\n",
       "      <td>2</td>\n",
       "      <td>9</td>\n",
       "      <td>3</td>\n",
       "      <td>9</td>\n",
       "      <td>100</td>\n",
       "      <td>15</td>\n",
       "      <td>39.55</td>\n",
       "    </tr>\n",
       "    <tr>\n",
       "      <th>2020-04-10</th>\n",
       "      <th>azure-web-app-service</th>\n",
       "      <td>4</td>\n",
       "      <td>2</td>\n",
       "      <td>10</td>\n",
       "      <td>4</td>\n",
       "      <td>10</td>\n",
       "      <td>101</td>\n",
       "      <td>15</td>\n",
       "      <td>28.65</td>\n",
       "    </tr>\n",
       "  </tbody>\n",
       "</table>\n",
       "</div>"
      ],
      "text/plain": [
       "                                  grain_team_tag  quarter  day  wday  qday  \\\n",
       "date       team_tag                                                          \n",
       "2020-04-04 azure-devops           0               2        4    5     4      \n",
       "2020-04-05 azure-devops           0               2        5    6     5      \n",
       "2020-04-06 azure-devops           0               2        6    0     6      \n",
       "2020-04-07 azure-devops           0               2        7    1     7      \n",
       "2020-04-08 azure-devops           0               2        8    2     8      \n",
       "2020-04-09 azure-devops           0               2        9    3     9      \n",
       "2020-04-10 azure-devops           0               2        10   4     10     \n",
       "2020-04-04 azure-storage          2               2        4    5     4      \n",
       "2020-04-05 azure-storage          2               2        5    6     5      \n",
       "2020-04-06 azure-storage          2               2        6    0     6      \n",
       "2020-04-07 azure-storage          2               2        7    1     7      \n",
       "2020-04-08 azure-storage          2               2        8    2     8      \n",
       "2020-04-09 azure-storage          2               2        9    3     9      \n",
       "2020-04-10 azure-storage          2               2        10   4     10     \n",
       "2020-04-04 azure-virtual-machine  3               2        4    5     4      \n",
       "2020-04-05 azure-virtual-machine  3               2        5    6     5      \n",
       "2020-04-06 azure-virtual-machine  3               2        6    0     6      \n",
       "2020-04-07 azure-virtual-machine  3               2        7    1     7      \n",
       "2020-04-08 azure-virtual-machine  3               2        8    2     8      \n",
       "2020-04-09 azure-virtual-machine  3               2        9    3     9      \n",
       "2020-04-10 azure-virtual-machine  3               2        10   4     10     \n",
       "2020-04-04 azure-functions        1               2        4    5     4      \n",
       "2020-04-05 azure-functions        1               2        5    6     5      \n",
       "2020-04-06 azure-functions        1               2        6    0     6      \n",
       "2020-04-07 azure-functions        1               2        7    1     7      \n",
       "2020-04-08 azure-functions        1               2        8    2     8      \n",
       "2020-04-09 azure-functions        1               2        9    3     9      \n",
       "2020-04-10 azure-functions        1               2        10   4     10     \n",
       "2020-04-04 azure-web-app-service  4               2        4    5     4      \n",
       "2020-04-05 azure-web-app-service  4               2        5    6     5      \n",
       "2020-04-06 azure-web-app-service  4               2        6    0     6      \n",
       "2020-04-07 azure-web-app-service  4               2        7    1     7      \n",
       "2020-04-08 azure-web-app-service  4               2        8    2     8      \n",
       "2020-04-09 azure-web-app-service  4               2        9    3     9      \n",
       "2020-04-10 azure-web-app-service  4               2        10   4     10     \n",
       "\n",
       "                                  yday  week  _automl_target_col  \n",
       "date       team_tag                                               \n",
       "2020-04-04 azure-devops           95    14   106.17               \n",
       "2020-04-05 azure-devops           96    14   71.68                \n",
       "2020-04-06 azure-devops           97    15   114.36               \n",
       "2020-04-07 azure-devops           98    15   205.64               \n",
       "2020-04-08 azure-devops           99    15   280.27               \n",
       "2020-04-09 azure-devops           100   15   281.73               \n",
       "2020-04-10 azure-devops           101   15   209.29               \n",
       "2020-04-04 azure-storage          95    14   85.10                \n",
       "2020-04-05 azure-storage          96    14   40.26                \n",
       "2020-04-06 azure-storage          97    15   74.13                \n",
       "2020-04-07 azure-storage          98    15   127.51               \n",
       "2020-04-08 azure-storage          99    15   184.07               \n",
       "2020-04-09 azure-storage          100   15   186.90               \n",
       "2020-04-10 azure-storage          101   15   145.81               \n",
       "2020-04-04 azure-virtual-machine  95    14   33.29                \n",
       "2020-04-05 azure-virtual-machine  96    14   63.61                \n",
       "2020-04-06 azure-virtual-machine  97    15   87.56                \n",
       "2020-04-07 azure-virtual-machine  98    15   134.15               \n",
       "2020-04-08 azure-virtual-machine  99    15   194.22               \n",
       "2020-04-09 azure-virtual-machine  100   15   199.04               \n",
       "2020-04-10 azure-virtual-machine  101   15   97.50                \n",
       "2020-04-04 azure-functions        95    14   44.67                \n",
       "2020-04-05 azure-functions        96    14   20.98                \n",
       "2020-04-06 azure-functions        97    15   40.09                \n",
       "2020-04-07 azure-functions        98    15   72.95                \n",
       "2020-04-08 azure-functions        99    15   98.48                \n",
       "2020-04-09 azure-functions        100   15   94.68                \n",
       "2020-04-10 azure-functions        101   15   66.42                \n",
       "2020-04-04 azure-web-app-service  95    14   12.88                \n",
       "2020-04-05 azure-web-app-service  96    14   10.46                \n",
       "2020-04-06 azure-web-app-service  97    15   15.10                \n",
       "2020-04-07 azure-web-app-service  98    15   29.37                \n",
       "2020-04-08 azure-web-app-service  99    15   39.52                \n",
       "2020-04-09 azure-web-app-service  100   15   39.55                \n",
       "2020-04-10 azure-web-app-service  101   15   28.65                "
      ]
     },
     "execution_count": 23,
     "metadata": {},
     "output_type": "execute_result"
    }
   ],
   "source": [
    "X_trans"
   ]
  },
  {
   "cell_type": "markdown",
   "metadata": {},
   "source": [
    "Review explanation dashboard at [https://ml.azure.com/experiments/id/315692f8-5d45-4e02-a946-e606b4e71836/runs/AutoML_8cbe242f-5f80-4e94-b3f3-4a3493e66e20_8?wsid=/subscriptions/15ae9cb6-95c1-483d-a0e3-b1a1a3b06324/resourcegroups/e2eworkshop/workspaces/Bert-Demo&tid=72f988bf-86f1-41af-91ab-2d7cd011db47#explanations](https://ml.azure.com/experiments/id/315692f8-5d45-4e02-a946-e606b4e71836/runs/AutoML_8cbe242f-5f80-4e94-b3f3-4a3493e66e20_8?wsid=/subscriptions/15ae9cb6-95c1-483d-a0e3-b1a1a3b06324/resourcegroups/e2eworkshop/workspaces/Bert-Demo&tid=72f988bf-86f1-41af-91ab-2d7cd011db47#explanations)"
   ]
  },
  {
   "cell_type": "code",
   "execution_count": null,
   "metadata": {},
   "outputs": [],
   "source": []
  }
 ],
 "metadata": {
  "authors": [
   {
    "name": "erwright"
   }
  ],
  "categories": [
   "how-to-use-azureml",
   "automated-machine-learning"
  ],
  "kernel_info": {
   "name": "python3-azureml"
  },
  "kernelspec": {
   "display_name": "Python 3.6 - AzureML",
   "language": "python",
   "name": "python3-azureml"
  },
  "language_info": {
   "codemirror_mode": {
    "name": "ipython",
    "version": 3
   },
   "file_extension": ".py",
   "mimetype": "text/x-python",
   "name": "python",
   "nbconvert_exporter": "python",
   "pygments_lexer": "ipython3",
   "version": "3.6.9"
  },
  "nteract": {
   "version": "nteract-front-end@1.0.0"
  }
 },
 "nbformat": 4,
 "nbformat_minor": 2
}
